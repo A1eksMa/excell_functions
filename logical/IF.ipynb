{
 "cells": [
  {
   "cell_type": "markdown",
   "id": "d8470496-a7bf-4f1a-97c2-1c984a680ac8",
   "metadata": {},
   "source": [
    "# Test dataframe"
   ]
  },
  {
   "cell_type": "code",
   "execution_count": 69,
   "id": "72c65797-e034-4c55-994e-fb331ba84c11",
   "metadata": {},
   "outputs": [],
   "source": [
    "import excell_functions"
   ]
  },
  {
   "cell_type": "code",
   "execution_count": 70,
   "id": "c79b0bc2-0a0d-4075-a539-2a8fb347472c",
   "metadata": {},
   "outputs": [],
   "source": [
    "import pandas as pd"
   ]
  },
  {
   "cell_type": "code",
   "execution_count": 71,
   "id": "7d7c3589-24fc-490a-9b2f-3eac2b881c84",
   "metadata": {},
   "outputs": [],
   "source": [
    "from excell_functions import logical as exfun, example as example"
   ]
  },
  {
   "cell_type": "code",
   "execution_count": 72,
   "id": "86ba95ee-d68a-4f9c-9819-a9c46c886903",
   "metadata": {
    "scrolled": true
   },
   "outputs": [
    {
     "data": {
      "text/html": [
       "<div>\n",
       "<style scoped>\n",
       "    .dataframe tbody tr th:only-of-type {\n",
       "        vertical-align: middle;\n",
       "    }\n",
       "\n",
       "    .dataframe tbody tr th {\n",
       "        vertical-align: top;\n",
       "    }\n",
       "\n",
       "    .dataframe thead th {\n",
       "        text-align: right;\n",
       "    }\n",
       "</style>\n",
       "<table border=\"1\" class=\"dataframe\">\n",
       "  <thead>\n",
       "    <tr style=\"text-align: right;\">\n",
       "      <th></th>\n",
       "      <th>A</th>\n",
       "      <th>B</th>\n",
       "      <th>C</th>\n",
       "      <th>D</th>\n",
       "      <th>E</th>\n",
       "      <th>F</th>\n",
       "      <th>G</th>\n",
       "      <th>H</th>\n",
       "    </tr>\n",
       "  </thead>\n",
       "  <tbody>\n",
       "    <tr>\n",
       "      <th>1</th>\n",
       "      <td>Bert</td>\n",
       "      <td>bool</td>\n",
       "      <td>1873</td>\n",
       "      <td>5.131507</td>\n",
       "      <td>True</td>\n",
       "      <td>2018-08-20</td>\n",
       "      <td>4868493.15</td>\n",
       "      <td>None</td>\n",
       "    </tr>\n",
       "    <tr>\n",
       "      <th>2</th>\n",
       "      <td>Martha</td>\n",
       "      <td>cow</td>\n",
       "      <td>2524</td>\n",
       "      <td>6.915068</td>\n",
       "      <td>False</td>\n",
       "      <td>2016-11-07</td>\n",
       "      <td>4627397.26</td>\n",
       "      <td>None</td>\n",
       "    </tr>\n",
       "    <tr>\n",
       "      <th>3</th>\n",
       "      <td>Noah</td>\n",
       "      <td>calf</td>\n",
       "      <td>269</td>\n",
       "      <td>0.736986</td>\n",
       "      <td>True</td>\n",
       "      <td>2023-01-10</td>\n",
       "      <td>9263013.70</td>\n",
       "      <td>None</td>\n",
       "    </tr>\n",
       "    <tr>\n",
       "      <th>4</th>\n",
       "      <td>Emma</td>\n",
       "      <td>heifer</td>\n",
       "      <td>67</td>\n",
       "      <td>0.183562</td>\n",
       "      <td>False</td>\n",
       "      <td>2023-07-31</td>\n",
       "      <td>14724657.53</td>\n",
       "      <td>None</td>\n",
       "    </tr>\n",
       "    <tr>\n",
       "      <th>5</th>\n",
       "      <td>Liam</td>\n",
       "      <td>calf</td>\n",
       "      <td>167</td>\n",
       "      <td>0.457534</td>\n",
       "      <td>True</td>\n",
       "      <td>2023-04-22</td>\n",
       "      <td>9542465.75</td>\n",
       "      <td>None</td>\n",
       "    </tr>\n",
       "    <tr>\n",
       "      <th>6</th>\n",
       "      <td>Oliver</td>\n",
       "      <td>calf</td>\n",
       "      <td>67</td>\n",
       "      <td>0.183562</td>\n",
       "      <td>True</td>\n",
       "      <td>2023-07-31</td>\n",
       "      <td>9816438.36</td>\n",
       "      <td>None</td>\n",
       "    </tr>\n",
       "    <tr>\n",
       "      <th>7</th>\n",
       "      <td>Lucas</td>\n",
       "      <td>bool</td>\n",
       "      <td>3258</td>\n",
       "      <td>8.926027</td>\n",
       "      <td>True</td>\n",
       "      <td>2014-11-04</td>\n",
       "      <td>1073972.60</td>\n",
       "      <td>None</td>\n",
       "    </tr>\n",
       "    <tr>\n",
       "      <th>8</th>\n",
       "      <td>Isabella</td>\n",
       "      <td>cow</td>\n",
       "      <td>2811</td>\n",
       "      <td>7.701370</td>\n",
       "      <td>False</td>\n",
       "      <td>2016-01-25</td>\n",
       "      <td>3447945.21</td>\n",
       "      <td>None</td>\n",
       "    </tr>\n",
       "    <tr>\n",
       "      <th>9</th>\n",
       "      <td>Henry</td>\n",
       "      <td>calf</td>\n",
       "      <td>177</td>\n",
       "      <td>0.484932</td>\n",
       "      <td>True</td>\n",
       "      <td>2023-04-12</td>\n",
       "      <td>9515068.49</td>\n",
       "      <td>None</td>\n",
       "    </tr>\n",
       "    <tr>\n",
       "      <th>10</th>\n",
       "      <td>Amelia</td>\n",
       "      <td>cow</td>\n",
       "      <td>2119</td>\n",
       "      <td>5.805479</td>\n",
       "      <td>False</td>\n",
       "      <td>2017-12-17</td>\n",
       "      <td>6291780.82</td>\n",
       "      <td>None</td>\n",
       "    </tr>\n",
       "    <tr>\n",
       "      <th>11</th>\n",
       "      <td>Evelyn</td>\n",
       "      <td>cow</td>\n",
       "      <td>3132</td>\n",
       "      <td>8.580822</td>\n",
       "      <td>False</td>\n",
       "      <td>2015-03-10</td>\n",
       "      <td>2128767.12</td>\n",
       "      <td>None</td>\n",
       "    </tr>\n",
       "    <tr>\n",
       "      <th>12</th>\n",
       "      <td>Mia</td>\n",
       "      <td>cow</td>\n",
       "      <td>2489</td>\n",
       "      <td>6.819178</td>\n",
       "      <td>False</td>\n",
       "      <td>2016-12-12</td>\n",
       "      <td>4771232.88</td>\n",
       "      <td>None</td>\n",
       "    </tr>\n",
       "  </tbody>\n",
       "</table>\n",
       "</div>"
      ],
      "text/plain": [
       "           A       B     C         D      E          F            G     H\n",
       "1       Bert    bool  1873  5.131507   True 2018-08-20   4868493.15  None\n",
       "2     Martha     cow  2524  6.915068  False 2016-11-07   4627397.26  None\n",
       "3       Noah    calf   269  0.736986   True 2023-01-10   9263013.70  None\n",
       "4       Emma  heifer    67  0.183562  False 2023-07-31  14724657.53  None\n",
       "5       Liam    calf   167  0.457534   True 2023-04-22   9542465.75  None\n",
       "6     Oliver    calf    67  0.183562   True 2023-07-31   9816438.36  None\n",
       "7      Lucas    bool  3258  8.926027   True 2014-11-04   1073972.60  None\n",
       "8   Isabella     cow  2811  7.701370  False 2016-01-25   3447945.21  None\n",
       "9      Henry    calf   177  0.484932   True 2023-04-12   9515068.49  None\n",
       "10    Amelia     cow  2119  5.805479  False 2017-12-17   6291780.82  None\n",
       "11    Evelyn     cow  3132  8.580822  False 2015-03-10   2128767.12  None\n",
       "12       Mia     cow  2489  6.819178  False 2016-12-12   4771232.88  None"
      ]
     },
     "metadata": {},
     "output_type": "display_data"
    }
   ],
   "source": [
    "example = example.df\n",
    "display(example)"
   ]
  },
  {
   "cell_type": "markdown",
   "id": "0c7970ae-cd02-43f6-bad9-b6bc67ff0461",
   "metadata": {},
   "source": [
    "## IF() function"
   ]
  },
  {
   "cell_type": "markdown",
   "id": "575babec-0e00-4d61-b44b-258a9bf85db9",
   "metadata": {},
   "source": [
    "### Test single value."
   ]
  },
  {
   "cell_type": "markdown",
   "id": "9acfa997-6e41-406d-bb5d-bee7a6c841fa",
   "metadata": {},
   "source": [
    "Python's \"example\\['A'\\]\\[1\\]\" is equal Excell's \"example!A1\"."
   ]
  },
  {
   "cell_type": "code",
   "execution_count": 73,
   "id": "37e46362-c0a8-4677-bcab-178a5d6d9971",
   "metadata": {},
   "outputs": [
    {
     "data": {
      "text/plain": [
       "'Bert'"
      ]
     },
     "execution_count": 73,
     "metadata": {},
     "output_type": "execute_result"
    }
   ],
   "source": [
    "example['A'][1]"
   ]
  },
  {
   "cell_type": "code",
   "execution_count": 74,
   "id": "5caf1ebd-c0a4-4ca5-ab2d-ed0ce270a2b2",
   "metadata": {},
   "outputs": [
    {
     "data": {
      "text/plain": [
       "'Martha'"
      ]
     },
     "execution_count": 74,
     "metadata": {},
     "output_type": "execute_result"
    }
   ],
   "source": [
    "example['A'][2]"
   ]
  },
  {
   "cell_type": "code",
   "execution_count": 75,
   "id": "cc324c1f-8079-4a61-91a0-bdd87ce5f4ab",
   "metadata": {},
   "outputs": [
    {
     "data": {
      "text/plain": [
       "'Lucas'"
      ]
     },
     "execution_count": 75,
     "metadata": {},
     "output_type": "execute_result"
    }
   ],
   "source": [
    "example['A'][7]"
   ]
  },
  {
   "cell_type": "markdown",
   "id": "de8720fc-ea7b-4f4a-8f4a-ca2b50271b57",
   "metadata": {},
   "source": [
    "#### Test \"True\" condition"
   ]
  },
  {
   "cell_type": "markdown",
   "id": "872493bd-44ad-4a74-904e-73f0274bae52",
   "metadata": {},
   "source": [
    "Bert is a bool. Lucas is a bool too. Martha is a cow."
   ]
  },
  {
   "cell_type": "code",
   "execution_count": 76,
   "id": "9171789e-d0e5-429f-a8e2-89b46ed805f4",
   "metadata": {},
   "outputs": [
    {
     "data": {
      "text/plain": [
       "'It is Bert (or Lucas)!'"
      ]
     },
     "execution_count": 76,
     "metadata": {},
     "output_type": "execute_result"
    }
   ],
   "source": [
    "# If one of theese animals is not a bool, it is Martha.\n",
    "exfun.IF(example['B'][1]=='bool', 'It is Bert (or Lucas)!', 'It is Martha!')"
   ]
  },
  {
   "cell_type": "code",
   "execution_count": 77,
   "id": "5acf57dd-c967-46d5-8c16-68e0a4a9c96b",
   "metadata": {},
   "outputs": [
    {
     "data": {
      "text/plain": [
       "'It is Bert (or Lucas)!'"
      ]
     },
     "execution_count": 77,
     "metadata": {},
     "output_type": "execute_result"
    }
   ],
   "source": [
    "# If one of theese animals is not a bool, it is Martha.\n",
    "exfun.IF(example['B'][7]=='bool', 'It is Bert (or Lucas)!', 'It is Martha!')"
   ]
  },
  {
   "cell_type": "markdown",
   "id": "b63bfc04-eb3f-4162-9e6a-5da06b1e189b",
   "metadata": {},
   "source": [
    "#### Test \"False\" condition"
   ]
  },
  {
   "cell_type": "code",
   "execution_count": 78,
   "id": "1d30356e-0c7b-45c2-bc20-1c45c216154b",
   "metadata": {},
   "outputs": [
    {
     "data": {
      "text/plain": [
       "'It is Martha!'"
      ]
     },
     "execution_count": 78,
     "metadata": {},
     "output_type": "execute_result"
    }
   ],
   "source": [
    "# If one of theese animals is not a bool, it is Martha.\n",
    "exfun.IF(example['B'][2]=='bool', 'It is Bert (or Lucas)!', 'It is Martha!')"
   ]
  },
  {
   "cell_type": "markdown",
   "id": "9578c50f-f479-4cee-8f5d-8baa22095a02",
   "metadata": {},
   "source": [
    "#### Test single value again. Compare pair in condition value"
   ]
  },
  {
   "cell_type": "code",
   "execution_count": 79,
   "id": "0c19a27a-639c-44ea-9b24-303093084d79",
   "metadata": {},
   "outputs": [
    {
     "data": {
      "text/plain": [
       "'It is true!'"
      ]
     },
     "execution_count": 79,
     "metadata": {},
     "output_type": "execute_result"
    }
   ],
   "source": [
    "# Bert and Lucas bools, isn't it?\n",
    "exfun.IF(example['B'][1] == example['B'][7], 'It is true!', 'It is false!')"
   ]
  },
  {
   "cell_type": "code",
   "execution_count": 80,
   "id": "8be3f983-e051-48cd-9935-afb97711d973",
   "metadata": {},
   "outputs": [
    {
     "data": {
      "text/plain": [
       "'It is false!'"
      ]
     },
     "execution_count": 80,
     "metadata": {},
     "output_type": "execute_result"
    }
   ],
   "source": [
    "# Bert and Lucas bools, isn't it?\n",
    "exfun.IF(example['B'][1] == example['B'][2], 'It is true!', 'It is false!')"
   ]
  },
  {
   "cell_type": "markdown",
   "id": "e5114d42-98b7-4c40-b69f-f37826947586",
   "metadata": {},
   "source": [
    "### Test group values."
   ]
  },
  {
   "cell_type": "markdown",
   "id": "e16fcd30-7baf-4112-bb01-ad236131cc96",
   "metadata": {},
   "source": [
    "Python's \"exampl\\['A']\\[1], example\\['B']\\[2], example\\['C']\\[3]\" is equal Excell's \"example!A1;example!B2;example!C3\"."
   ]
  },
  {
   "cell_type": "code",
   "execution_count": 81,
   "id": "8cdebcf3-efd7-4e3d-ade5-881bc4d515d2",
   "metadata": {},
   "outputs": [
    {
     "data": {
      "text/plain": [
       "['Bert', 'cow', 269]"
      ]
     },
     "execution_count": 81,
     "metadata": {},
     "output_type": "execute_result"
    }
   ],
   "source": [
    "[example['A'][1], example['B'][2], example['C'][3]]"
   ]
  },
  {
   "cell_type": "code",
   "execution_count": 82,
   "id": "651697c5-6e25-486b-a1cf-8cc2f822cd54",
   "metadata": {},
   "outputs": [
    {
     "data": {
      "text/plain": [
       "'It is true!'"
      ]
     },
     "execution_count": 82,
     "metadata": {},
     "output_type": "execute_result"
    }
   ],
   "source": [
    "exfun.IF((example['A'][1], example['B'][2], example['C'][3]), 'It is true!', 'It is false!')"
   ]
  },
  {
   "cell_type": "code",
   "execution_count": 83,
   "id": "062b08ee-c094-4c37-ade1-5eaf8e4dd59e",
   "metadata": {},
   "outputs": [
    {
     "data": {
      "text/plain": [
       "'It is true!'"
      ]
     },
     "execution_count": 83,
     "metadata": {},
     "output_type": "execute_result"
    }
   ],
   "source": [
    "exfun.IF([example['A'][1], example['B'][2], example['C'][3]], 'It is true!', 'It is false!')"
   ]
  },
  {
   "cell_type": "markdown",
   "id": "ef1983bd-0cd7-4cf0-95c6-76ed3c1593c3",
   "metadata": {},
   "source": [
    "### Test column."
   ]
  },
  {
   "cell_type": "markdown",
   "id": "1fa17c4a-f9f8-49be-8fd9-3d5e513ba0fb",
   "metadata": {},
   "source": [
    "Python's \"example\\['A'\\]\" is equal Excell's \"example!A:A\"."
   ]
  },
  {
   "cell_type": "code",
   "execution_count": 84,
   "id": "6af1c65a-a95f-4e2a-95fd-73bea5b45cbf",
   "metadata": {},
   "outputs": [
    {
     "data": {
      "text/plain": [
       "1         Bert\n",
       "2       Martha\n",
       "3         Noah\n",
       "4         Emma\n",
       "5         Liam\n",
       "6       Oliver\n",
       "7        Lucas\n",
       "8     Isabella\n",
       "9        Henry\n",
       "10      Amelia\n",
       "11      Evelyn\n",
       "12         Mia\n",
       "Name: A, dtype: object"
      ]
     },
     "execution_count": 84,
     "metadata": {},
     "output_type": "execute_result"
    }
   ],
   "source": [
    "example['A']"
   ]
  },
  {
   "cell_type": "code",
   "execution_count": 85,
   "id": "65e64d91-3a4e-440c-8414-6c5be4fcdb86",
   "metadata": {},
   "outputs": [
    {
     "name": "stdout",
     "output_type": "stream",
     "text": [
      "<class 'pandas.core.series.Series'>\n",
      "RangeIndex: 12 entries, 1 to 12\n",
      "Series name: A\n",
      "Non-Null Count  Dtype \n",
      "--------------  ----- \n",
      "12 non-null     object\n",
      "dtypes: object(1)\n",
      "memory usage: 228.0+ bytes\n"
     ]
    }
   ],
   "source": [
    "example['A'].info()"
   ]
  },
  {
   "cell_type": "code",
   "execution_count": 86,
   "id": "06e05de6-611f-4441-b0bf-0dbd20db546f",
   "metadata": {},
   "outputs": [
    {
     "ename": "ValueError",
     "evalue": "The truth value of a Series is ambiguous. Use a.empty, a.bool(), a.item(), a.any() or a.all().",
     "output_type": "error",
     "traceback": [
      "\u001b[0;31m---------------------------------------------------------------------------\u001b[0m",
      "\u001b[0;31mValueError\u001b[0m                                Traceback (most recent call last)",
      "\u001b[0;32m/tmp/ipykernel_90176/2579265629.py\u001b[0m in \u001b[0;36m?\u001b[0;34m()\u001b[0m\n\u001b[0;32m----> 1\u001b[0;31m \u001b[0mexfun\u001b[0m\u001b[0;34m.\u001b[0m\u001b[0mIF\u001b[0m\u001b[0;34m(\u001b[0m\u001b[0mexample\u001b[0m\u001b[0;34m[\u001b[0m\u001b[0;34m'E'\u001b[0m\u001b[0;34m]\u001b[0m\u001b[0;34m,\u001b[0m \u001b[0mexample\u001b[0m\u001b[0;34m[\u001b[0m\u001b[0;34m'A'\u001b[0m\u001b[0;34m]\u001b[0m\u001b[0;34m,\u001b[0m \u001b[0mexample\u001b[0m\u001b[0;34m[\u001b[0m\u001b[0;34m'H'\u001b[0m\u001b[0;34m]\u001b[0m\u001b[0;34m)\u001b[0m\u001b[0;34m\u001b[0m\u001b[0;34m\u001b[0m\u001b[0m\n\u001b[0m",
      "\u001b[0;32m/var/www/html/data-analysts/venv/lib/python3.11/site-packages/excell_functions/logical/__init__.py\u001b[0m in \u001b[0;36m?\u001b[0;34m(condition, true_value, false_value)\u001b[0m\n\u001b[1;32m     64\u001b[0m     \u001b[0mThis\u001b[0m \u001b[0mfunction\u001b[0m \u001b[0mtakes\u001b[0m \u001b[0mthree\u001b[0m \u001b[0marguments\u001b[0m\u001b[0;34m:\u001b[0m \u001b[0mcondition\u001b[0m\u001b[0;34m,\u001b[0m \u001b[0mtrue_value\u001b[0m\u001b[0;34m,\u001b[0m \u001b[0;32mand\u001b[0m \u001b[0mfalse_value\u001b[0m\u001b[0;34m.\u001b[0m\u001b[0;34m\u001b[0m\u001b[0;34m\u001b[0m\u001b[0m\n\u001b[1;32m     65\u001b[0m     \u001b[0mIf\u001b[0m \u001b[0mthe\u001b[0m \u001b[0mcondition\u001b[0m \u001b[0;32mis\u001b[0m \u001b[0mtrue\u001b[0m\u001b[0;34m,\u001b[0m \u001b[0mthe\u001b[0m \u001b[0mfunction\u001b[0m \u001b[0mreturns\u001b[0m \u001b[0mthe\u001b[0m \u001b[0mtrue_value\u001b[0m\u001b[0;34m.\u001b[0m\u001b[0;34m\u001b[0m\u001b[0;34m\u001b[0m\u001b[0m\n\u001b[1;32m     66\u001b[0m     \u001b[0mOtherwise\u001b[0m\u001b[0;34m,\u001b[0m \u001b[0mit\u001b[0m \u001b[0mreturns\u001b[0m \u001b[0mthe\u001b[0m \u001b[0mfalse_value\u001b[0m\u001b[0;34m.\u001b[0m\u001b[0;34m\u001b[0m\u001b[0;34m\u001b[0m\u001b[0m\n\u001b[1;32m     67\u001b[0m     '''\n\u001b[0;32m---> 68\u001b[0;31m     \u001b[0;32mif\u001b[0m \u001b[0mcondition\u001b[0m\u001b[0;34m:\u001b[0m\u001b[0;34m\u001b[0m\u001b[0;34m\u001b[0m\u001b[0m\n\u001b[0m\u001b[1;32m     69\u001b[0m         \u001b[0;32mreturn\u001b[0m \u001b[0mtrue_value\u001b[0m\u001b[0;34m\u001b[0m\u001b[0;34m\u001b[0m\u001b[0m\n\u001b[1;32m     70\u001b[0m     \u001b[0;32melse\u001b[0m\u001b[0;34m:\u001b[0m\u001b[0;34m\u001b[0m\u001b[0;34m\u001b[0m\u001b[0m\n\u001b[1;32m     71\u001b[0m         \u001b[0;32mreturn\u001b[0m \u001b[0mfalse_value\u001b[0m\u001b[0;34m\u001b[0m\u001b[0;34m\u001b[0m\u001b[0m\n",
      "\u001b[0;32m/var/www/html/data-analysts/venv/lib/python3.11/site-packages/pandas/core/generic.py\u001b[0m in \u001b[0;36m?\u001b[0;34m(self)\u001b[0m\n\u001b[1;32m   1517\u001b[0m     \u001b[0;34m@\u001b[0m\u001b[0mfinal\u001b[0m\u001b[0;34m\u001b[0m\u001b[0;34m\u001b[0m\u001b[0m\n\u001b[1;32m   1518\u001b[0m     \u001b[0;32mdef\u001b[0m \u001b[0m__nonzero__\u001b[0m\u001b[0;34m(\u001b[0m\u001b[0mself\u001b[0m\u001b[0;34m)\u001b[0m \u001b[0;34m->\u001b[0m \u001b[0mNoReturn\u001b[0m\u001b[0;34m:\u001b[0m\u001b[0;34m\u001b[0m\u001b[0;34m\u001b[0m\u001b[0m\n\u001b[0;32m-> 1519\u001b[0;31m         raise ValueError(\n\u001b[0m\u001b[1;32m   1520\u001b[0m             \u001b[0;34mf\"The truth value of a {type(self).__name__} is ambiguous. \"\u001b[0m\u001b[0;34m\u001b[0m\u001b[0;34m\u001b[0m\u001b[0m\n\u001b[1;32m   1521\u001b[0m             \u001b[0;34m\"Use a.empty, a.bool(), a.item(), a.any() or a.all().\"\u001b[0m\u001b[0;34m\u001b[0m\u001b[0;34m\u001b[0m\u001b[0m\n\u001b[1;32m   1522\u001b[0m         )\n",
      "\u001b[0;31mValueError\u001b[0m: The truth value of a Series is ambiguous. Use a.empty, a.bool(), a.item(), a.any() or a.all()."
     ]
    }
   ],
   "source": [
    "exfun.IF(example['E'], example['A'], example['H'])"
   ]
  },
  {
   "cell_type": "code",
   "execution_count": null,
   "id": "d724e8ea-8c9c-42f6-8369-6434ea84955d",
   "metadata": {},
   "outputs": [],
   "source": [
    "exfun.IF([example['E']], [example['A']], [example['H']])"
   ]
  },
  {
   "cell_type": "code",
   "execution_count": 87,
   "id": "e06214f9-92f0-46ea-9ba6-1287c33dcd00",
   "metadata": {},
   "outputs": [
    {
     "data": {
      "text/plain": [
       "list"
      ]
     },
     "execution_count": 87,
     "metadata": {},
     "output_type": "execute_result"
    }
   ],
   "source": [
    "type(exfun.IF([example['E']], [example['A']], [example['H']]))"
   ]
  },
  {
   "cell_type": "markdown",
   "id": "8dec9d68-10cd-4363-8f23-bf1dda0e7831",
   "metadata": {},
   "source": [
    "### Test row."
   ]
  },
  {
   "cell_type": "markdown",
   "id": "0b3a0f12-0fab-4a0d-9f56-6f7ce32b0f1c",
   "metadata": {},
   "source": [
    "Python's \"example\\[0:1\\]\" is equal Excell's \" example!1:1\"."
   ]
  },
  {
   "cell_type": "code",
   "execution_count": 88,
   "id": "cab3de06-4dd1-4de5-bd49-4f4f05dca286",
   "metadata": {},
   "outputs": [
    {
     "data": {
      "text/html": [
       "<div>\n",
       "<style scoped>\n",
       "    .dataframe tbody tr th:only-of-type {\n",
       "        vertical-align: middle;\n",
       "    }\n",
       "\n",
       "    .dataframe tbody tr th {\n",
       "        vertical-align: top;\n",
       "    }\n",
       "\n",
       "    .dataframe thead th {\n",
       "        text-align: right;\n",
       "    }\n",
       "</style>\n",
       "<table border=\"1\" class=\"dataframe\">\n",
       "  <thead>\n",
       "    <tr style=\"text-align: right;\">\n",
       "      <th></th>\n",
       "      <th>A</th>\n",
       "      <th>B</th>\n",
       "      <th>C</th>\n",
       "      <th>D</th>\n",
       "      <th>E</th>\n",
       "      <th>F</th>\n",
       "      <th>G</th>\n",
       "      <th>H</th>\n",
       "    </tr>\n",
       "  </thead>\n",
       "  <tbody>\n",
       "    <tr>\n",
       "      <th>1</th>\n",
       "      <td>Bert</td>\n",
       "      <td>bool</td>\n",
       "      <td>1873</td>\n",
       "      <td>5.131507</td>\n",
       "      <td>True</td>\n",
       "      <td>2018-08-20</td>\n",
       "      <td>4868493.15</td>\n",
       "      <td>None</td>\n",
       "    </tr>\n",
       "  </tbody>\n",
       "</table>\n",
       "</div>"
      ],
      "text/plain": [
       "      A     B     C         D     E          F           G     H\n",
       "1  Bert  bool  1873  5.131507  True 2018-08-20  4868493.15  None"
      ]
     },
     "execution_count": 88,
     "metadata": {},
     "output_type": "execute_result"
    }
   ],
   "source": [
    "example[:1]"
   ]
  },
  {
   "cell_type": "code",
   "execution_count": 89,
   "id": "7269a90a-0f92-43e5-8a6b-6ef182a7d381",
   "metadata": {},
   "outputs": [
    {
     "data": {
      "text/html": [
       "<div>\n",
       "<style scoped>\n",
       "    .dataframe tbody tr th:only-of-type {\n",
       "        vertical-align: middle;\n",
       "    }\n",
       "\n",
       "    .dataframe tbody tr th {\n",
       "        vertical-align: top;\n",
       "    }\n",
       "\n",
       "    .dataframe thead th {\n",
       "        text-align: right;\n",
       "    }\n",
       "</style>\n",
       "<table border=\"1\" class=\"dataframe\">\n",
       "  <thead>\n",
       "    <tr style=\"text-align: right;\">\n",
       "      <th></th>\n",
       "      <th>A</th>\n",
       "      <th>B</th>\n",
       "      <th>C</th>\n",
       "      <th>D</th>\n",
       "      <th>E</th>\n",
       "      <th>F</th>\n",
       "      <th>G</th>\n",
       "      <th>H</th>\n",
       "    </tr>\n",
       "  </thead>\n",
       "  <tbody>\n",
       "    <tr>\n",
       "      <th>2</th>\n",
       "      <td>Martha</td>\n",
       "      <td>cow</td>\n",
       "      <td>2524</td>\n",
       "      <td>6.915068</td>\n",
       "      <td>False</td>\n",
       "      <td>2016-11-07</td>\n",
       "      <td>4627397.26</td>\n",
       "      <td>None</td>\n",
       "    </tr>\n",
       "  </tbody>\n",
       "</table>\n",
       "</div>"
      ],
      "text/plain": [
       "        A    B     C         D      E          F           G     H\n",
       "2  Martha  cow  2524  6.915068  False 2016-11-07  4627397.26  None"
      ]
     },
     "execution_count": 89,
     "metadata": {},
     "output_type": "execute_result"
    }
   ],
   "source": [
    "example[1:2]"
   ]
  },
  {
   "cell_type": "code",
   "execution_count": 90,
   "id": "3ad6bd35-ed78-474a-abc7-0eac3d4c027c",
   "metadata": {},
   "outputs": [
    {
     "data": {
      "text/html": [
       "<div>\n",
       "<style scoped>\n",
       "    .dataframe tbody tr th:only-of-type {\n",
       "        vertical-align: middle;\n",
       "    }\n",
       "\n",
       "    .dataframe tbody tr th {\n",
       "        vertical-align: top;\n",
       "    }\n",
       "\n",
       "    .dataframe thead th {\n",
       "        text-align: right;\n",
       "    }\n",
       "</style>\n",
       "<table border=\"1\" class=\"dataframe\">\n",
       "  <thead>\n",
       "    <tr style=\"text-align: right;\">\n",
       "      <th></th>\n",
       "      <th>A</th>\n",
       "      <th>B</th>\n",
       "      <th>C</th>\n",
       "      <th>D</th>\n",
       "      <th>E</th>\n",
       "      <th>F</th>\n",
       "      <th>G</th>\n",
       "      <th>H</th>\n",
       "    </tr>\n",
       "  </thead>\n",
       "  <tbody>\n",
       "    <tr>\n",
       "      <th>3</th>\n",
       "      <td>Noah</td>\n",
       "      <td>calf</td>\n",
       "      <td>269</td>\n",
       "      <td>0.736986</td>\n",
       "      <td>True</td>\n",
       "      <td>2023-01-10</td>\n",
       "      <td>9263013.7</td>\n",
       "      <td>None</td>\n",
       "    </tr>\n",
       "  </tbody>\n",
       "</table>\n",
       "</div>"
      ],
      "text/plain": [
       "      A     B    C         D     E          F          G     H\n",
       "3  Noah  calf  269  0.736986  True 2023-01-10  9263013.7  None"
      ]
     },
     "execution_count": 90,
     "metadata": {},
     "output_type": "execute_result"
    }
   ],
   "source": [
    "example[2:3]"
   ]
  },
  {
   "cell_type": "code",
   "execution_count": 91,
   "id": "504b2a02-c6db-4c09-9abf-c2f576e840d2",
   "metadata": {},
   "outputs": [
    {
     "ename": "ValueError",
     "evalue": "The truth value of a DataFrame is ambiguous. Use a.empty, a.bool(), a.item(), a.any() or a.all().",
     "output_type": "error",
     "traceback": [
      "\u001b[0;31m---------------------------------------------------------------------------\u001b[0m",
      "\u001b[0;31mValueError\u001b[0m                                Traceback (most recent call last)",
      "\u001b[0;32m/tmp/ipykernel_90176/1854637712.py\u001b[0m in \u001b[0;36m?\u001b[0;34m()\u001b[0m\n\u001b[0;32m----> 1\u001b[0;31m \u001b[0mexfun\u001b[0m\u001b[0;34m.\u001b[0m\u001b[0mIF\u001b[0m\u001b[0;34m(\u001b[0m\u001b[0mexample\u001b[0m\u001b[0;34m[\u001b[0m\u001b[0;34m:\u001b[0m\u001b[0;36m1\u001b[0m\u001b[0;34m]\u001b[0m\u001b[0;34m,\u001b[0m \u001b[0mexample\u001b[0m\u001b[0;34m[\u001b[0m\u001b[0;36m1\u001b[0m\u001b[0;34m:\u001b[0m\u001b[0;36m2\u001b[0m\u001b[0;34m]\u001b[0m\u001b[0;34m,\u001b[0m \u001b[0mexample\u001b[0m\u001b[0;34m[\u001b[0m\u001b[0;36m2\u001b[0m\u001b[0;34m:\u001b[0m\u001b[0;36m3\u001b[0m\u001b[0;34m]\u001b[0m\u001b[0;34m)\u001b[0m\u001b[0;34m\u001b[0m\u001b[0;34m\u001b[0m\u001b[0m\n\u001b[0m",
      "\u001b[0;32m/var/www/html/data-analysts/venv/lib/python3.11/site-packages/excell_functions/logical/__init__.py\u001b[0m in \u001b[0;36m?\u001b[0;34m(condition, true_value, false_value)\u001b[0m\n\u001b[1;32m     64\u001b[0m     \u001b[0mThis\u001b[0m \u001b[0mfunction\u001b[0m \u001b[0mtakes\u001b[0m \u001b[0mthree\u001b[0m \u001b[0marguments\u001b[0m\u001b[0;34m:\u001b[0m \u001b[0mcondition\u001b[0m\u001b[0;34m,\u001b[0m \u001b[0mtrue_value\u001b[0m\u001b[0;34m,\u001b[0m \u001b[0;32mand\u001b[0m \u001b[0mfalse_value\u001b[0m\u001b[0;34m.\u001b[0m\u001b[0;34m\u001b[0m\u001b[0;34m\u001b[0m\u001b[0m\n\u001b[1;32m     65\u001b[0m     \u001b[0mIf\u001b[0m \u001b[0mthe\u001b[0m \u001b[0mcondition\u001b[0m \u001b[0;32mis\u001b[0m \u001b[0mtrue\u001b[0m\u001b[0;34m,\u001b[0m \u001b[0mthe\u001b[0m \u001b[0mfunction\u001b[0m \u001b[0mreturns\u001b[0m \u001b[0mthe\u001b[0m \u001b[0mtrue_value\u001b[0m\u001b[0;34m.\u001b[0m\u001b[0;34m\u001b[0m\u001b[0;34m\u001b[0m\u001b[0m\n\u001b[1;32m     66\u001b[0m     \u001b[0mOtherwise\u001b[0m\u001b[0;34m,\u001b[0m \u001b[0mit\u001b[0m \u001b[0mreturns\u001b[0m \u001b[0mthe\u001b[0m \u001b[0mfalse_value\u001b[0m\u001b[0;34m.\u001b[0m\u001b[0;34m\u001b[0m\u001b[0;34m\u001b[0m\u001b[0m\n\u001b[1;32m     67\u001b[0m     '''\n\u001b[0;32m---> 68\u001b[0;31m     \u001b[0;32mif\u001b[0m \u001b[0mcondition\u001b[0m\u001b[0;34m:\u001b[0m\u001b[0;34m\u001b[0m\u001b[0;34m\u001b[0m\u001b[0m\n\u001b[0m\u001b[1;32m     69\u001b[0m         \u001b[0;32mreturn\u001b[0m \u001b[0mtrue_value\u001b[0m\u001b[0;34m\u001b[0m\u001b[0;34m\u001b[0m\u001b[0m\n\u001b[1;32m     70\u001b[0m     \u001b[0;32melse\u001b[0m\u001b[0;34m:\u001b[0m\u001b[0;34m\u001b[0m\u001b[0;34m\u001b[0m\u001b[0m\n\u001b[1;32m     71\u001b[0m         \u001b[0;32mreturn\u001b[0m \u001b[0mfalse_value\u001b[0m\u001b[0;34m\u001b[0m\u001b[0;34m\u001b[0m\u001b[0m\n",
      "\u001b[0;32m/var/www/html/data-analysts/venv/lib/python3.11/site-packages/pandas/core/generic.py\u001b[0m in \u001b[0;36m?\u001b[0;34m(self)\u001b[0m\n\u001b[1;32m   1517\u001b[0m     \u001b[0;34m@\u001b[0m\u001b[0mfinal\u001b[0m\u001b[0;34m\u001b[0m\u001b[0;34m\u001b[0m\u001b[0m\n\u001b[1;32m   1518\u001b[0m     \u001b[0;32mdef\u001b[0m \u001b[0m__nonzero__\u001b[0m\u001b[0;34m(\u001b[0m\u001b[0mself\u001b[0m\u001b[0;34m)\u001b[0m \u001b[0;34m->\u001b[0m \u001b[0mNoReturn\u001b[0m\u001b[0;34m:\u001b[0m\u001b[0;34m\u001b[0m\u001b[0;34m\u001b[0m\u001b[0m\n\u001b[0;32m-> 1519\u001b[0;31m         raise ValueError(\n\u001b[0m\u001b[1;32m   1520\u001b[0m             \u001b[0;34mf\"The truth value of a {type(self).__name__} is ambiguous. \"\u001b[0m\u001b[0;34m\u001b[0m\u001b[0;34m\u001b[0m\u001b[0m\n\u001b[1;32m   1521\u001b[0m             \u001b[0;34m\"Use a.empty, a.bool(), a.item(), a.any() or a.all().\"\u001b[0m\u001b[0;34m\u001b[0m\u001b[0;34m\u001b[0m\u001b[0m\n\u001b[1;32m   1522\u001b[0m         )\n",
      "\u001b[0;31mValueError\u001b[0m: The truth value of a DataFrame is ambiguous. Use a.empty, a.bool(), a.item(), a.any() or a.all()."
     ]
    }
   ],
   "source": [
    "exfun.IF(example[:1], example[1:2], example[2:3])"
   ]
  },
  {
   "cell_type": "code",
   "execution_count": null,
   "id": "6d1cc700-060c-4100-9cba-e07dcc8d3e9a",
   "metadata": {},
   "outputs": [],
   "source": [
    "exfun.IF([example[:1]], [example[1:2]], [example[2:3]])"
   ]
  },
  {
   "cell_type": "code",
   "execution_count": 92,
   "id": "31f88f94-6650-48bd-a5c8-8d91d5016ac0",
   "metadata": {},
   "outputs": [
    {
     "data": {
      "text/plain": [
       "list"
      ]
     },
     "execution_count": 92,
     "metadata": {},
     "output_type": "execute_result"
    }
   ],
   "source": [
    "type(exfun.IF([example[:1]], [example[1:2]], [example[2:3]]))"
   ]
  },
  {
   "cell_type": "markdown",
   "id": "dff2a4bd-9b46-4940-a9d4-9c8d7d7878e5",
   "metadata": {},
   "source": [
    "### Test area."
   ]
  },
  {
   "cell_type": "markdown",
   "id": "2ed2ea79-bd3c-4f6d-8eab-e338580fc435",
   "metadata": {},
   "source": [
    "Python's \"example.loc\\[0:11, 'A']\" is equal Excell's \" example!A1:A11\"."
   ]
  },
  {
   "cell_type": "markdown",
   "id": "ab032199-db23-403d-962b-c8539dd9eaef",
   "metadata": {},
   "source": [
    "Python's \"example.loc\\[0:1, 'A':'G']\" is equal Excell's \" example!A1:G1\"."
   ]
  },
  {
   "cell_type": "markdown",
   "id": "17b234d8-6094-4ad6-80d6-a2e0a0883fbc",
   "metadata": {},
   "source": [
    "Python's \"example.loc\\[0:11, 'A':'G']\" is equal Excell's \" example!A1:G11\"."
   ]
  },
  {
   "cell_type": "code",
   "execution_count": 93,
   "id": "6ebfeae3-27fb-45d6-8664-da03de024a18",
   "metadata": {},
   "outputs": [
    {
     "data": {
      "text/plain": [
       "1         Bert\n",
       "2       Martha\n",
       "3         Noah\n",
       "4         Emma\n",
       "5         Liam\n",
       "6       Oliver\n",
       "7        Lucas\n",
       "8     Isabella\n",
       "9        Henry\n",
       "10      Amelia\n",
       "11      Evelyn\n",
       "Name: A, dtype: object"
      ]
     },
     "execution_count": 93,
     "metadata": {},
     "output_type": "execute_result"
    }
   ],
   "source": [
    "ver = example.loc[:11, 'A']\n",
    "example.loc[:11, 'A']"
   ]
  },
  {
   "cell_type": "code",
   "execution_count": 94,
   "id": "f10338b0-e807-4bc1-a264-714761baf453",
   "metadata": {},
   "outputs": [
    {
     "data": {
      "text/html": [
       "<div>\n",
       "<style scoped>\n",
       "    .dataframe tbody tr th:only-of-type {\n",
       "        vertical-align: middle;\n",
       "    }\n",
       "\n",
       "    .dataframe tbody tr th {\n",
       "        vertical-align: top;\n",
       "    }\n",
       "\n",
       "    .dataframe thead th {\n",
       "        text-align: right;\n",
       "    }\n",
       "</style>\n",
       "<table border=\"1\" class=\"dataframe\">\n",
       "  <thead>\n",
       "    <tr style=\"text-align: right;\">\n",
       "      <th></th>\n",
       "      <th>A</th>\n",
       "      <th>B</th>\n",
       "      <th>C</th>\n",
       "      <th>D</th>\n",
       "      <th>E</th>\n",
       "      <th>F</th>\n",
       "      <th>G</th>\n",
       "    </tr>\n",
       "  </thead>\n",
       "  <tbody>\n",
       "    <tr>\n",
       "      <th>1</th>\n",
       "      <td>Bert</td>\n",
       "      <td>bool</td>\n",
       "      <td>1873</td>\n",
       "      <td>5.131507</td>\n",
       "      <td>True</td>\n",
       "      <td>2018-08-20</td>\n",
       "      <td>4868493.15</td>\n",
       "    </tr>\n",
       "  </tbody>\n",
       "</table>\n",
       "</div>"
      ],
      "text/plain": [
       "      A     B     C         D     E          F           G\n",
       "1  Bert  bool  1873  5.131507  True 2018-08-20  4868493.15"
      ]
     },
     "execution_count": 94,
     "metadata": {},
     "output_type": "execute_result"
    }
   ],
   "source": [
    "hor = example.loc[:1, 'A':'G']\n",
    "example.loc[:1, 'A':'G']"
   ]
  },
  {
   "cell_type": "code",
   "execution_count": 95,
   "id": "5860d995-3d24-4855-965f-a59bc8682f32",
   "metadata": {},
   "outputs": [
    {
     "data": {
      "text/html": [
       "<div>\n",
       "<style scoped>\n",
       "    .dataframe tbody tr th:only-of-type {\n",
       "        vertical-align: middle;\n",
       "    }\n",
       "\n",
       "    .dataframe tbody tr th {\n",
       "        vertical-align: top;\n",
       "    }\n",
       "\n",
       "    .dataframe thead th {\n",
       "        text-align: right;\n",
       "    }\n",
       "</style>\n",
       "<table border=\"1\" class=\"dataframe\">\n",
       "  <thead>\n",
       "    <tr style=\"text-align: right;\">\n",
       "      <th></th>\n",
       "      <th>A</th>\n",
       "      <th>B</th>\n",
       "      <th>C</th>\n",
       "      <th>D</th>\n",
       "      <th>E</th>\n",
       "      <th>F</th>\n",
       "      <th>G</th>\n",
       "    </tr>\n",
       "  </thead>\n",
       "  <tbody>\n",
       "    <tr>\n",
       "      <th>1</th>\n",
       "      <td>Bert</td>\n",
       "      <td>bool</td>\n",
       "      <td>1873</td>\n",
       "      <td>5.131507</td>\n",
       "      <td>True</td>\n",
       "      <td>2018-08-20</td>\n",
       "      <td>4868493.15</td>\n",
       "    </tr>\n",
       "    <tr>\n",
       "      <th>2</th>\n",
       "      <td>Martha</td>\n",
       "      <td>cow</td>\n",
       "      <td>2524</td>\n",
       "      <td>6.915068</td>\n",
       "      <td>False</td>\n",
       "      <td>2016-11-07</td>\n",
       "      <td>4627397.26</td>\n",
       "    </tr>\n",
       "    <tr>\n",
       "      <th>3</th>\n",
       "      <td>Noah</td>\n",
       "      <td>calf</td>\n",
       "      <td>269</td>\n",
       "      <td>0.736986</td>\n",
       "      <td>True</td>\n",
       "      <td>2023-01-10</td>\n",
       "      <td>9263013.70</td>\n",
       "    </tr>\n",
       "    <tr>\n",
       "      <th>4</th>\n",
       "      <td>Emma</td>\n",
       "      <td>heifer</td>\n",
       "      <td>67</td>\n",
       "      <td>0.183562</td>\n",
       "      <td>False</td>\n",
       "      <td>2023-07-31</td>\n",
       "      <td>14724657.53</td>\n",
       "    </tr>\n",
       "    <tr>\n",
       "      <th>5</th>\n",
       "      <td>Liam</td>\n",
       "      <td>calf</td>\n",
       "      <td>167</td>\n",
       "      <td>0.457534</td>\n",
       "      <td>True</td>\n",
       "      <td>2023-04-22</td>\n",
       "      <td>9542465.75</td>\n",
       "    </tr>\n",
       "    <tr>\n",
       "      <th>6</th>\n",
       "      <td>Oliver</td>\n",
       "      <td>calf</td>\n",
       "      <td>67</td>\n",
       "      <td>0.183562</td>\n",
       "      <td>True</td>\n",
       "      <td>2023-07-31</td>\n",
       "      <td>9816438.36</td>\n",
       "    </tr>\n",
       "    <tr>\n",
       "      <th>7</th>\n",
       "      <td>Lucas</td>\n",
       "      <td>bool</td>\n",
       "      <td>3258</td>\n",
       "      <td>8.926027</td>\n",
       "      <td>True</td>\n",
       "      <td>2014-11-04</td>\n",
       "      <td>1073972.60</td>\n",
       "    </tr>\n",
       "    <tr>\n",
       "      <th>8</th>\n",
       "      <td>Isabella</td>\n",
       "      <td>cow</td>\n",
       "      <td>2811</td>\n",
       "      <td>7.701370</td>\n",
       "      <td>False</td>\n",
       "      <td>2016-01-25</td>\n",
       "      <td>3447945.21</td>\n",
       "    </tr>\n",
       "    <tr>\n",
       "      <th>9</th>\n",
       "      <td>Henry</td>\n",
       "      <td>calf</td>\n",
       "      <td>177</td>\n",
       "      <td>0.484932</td>\n",
       "      <td>True</td>\n",
       "      <td>2023-04-12</td>\n",
       "      <td>9515068.49</td>\n",
       "    </tr>\n",
       "    <tr>\n",
       "      <th>10</th>\n",
       "      <td>Amelia</td>\n",
       "      <td>cow</td>\n",
       "      <td>2119</td>\n",
       "      <td>5.805479</td>\n",
       "      <td>False</td>\n",
       "      <td>2017-12-17</td>\n",
       "      <td>6291780.82</td>\n",
       "    </tr>\n",
       "    <tr>\n",
       "      <th>11</th>\n",
       "      <td>Evelyn</td>\n",
       "      <td>cow</td>\n",
       "      <td>3132</td>\n",
       "      <td>8.580822</td>\n",
       "      <td>False</td>\n",
       "      <td>2015-03-10</td>\n",
       "      <td>2128767.12</td>\n",
       "    </tr>\n",
       "  </tbody>\n",
       "</table>\n",
       "</div>"
      ],
      "text/plain": [
       "           A       B     C         D      E          F            G\n",
       "1       Bert    bool  1873  5.131507   True 2018-08-20   4868493.15\n",
       "2     Martha     cow  2524  6.915068  False 2016-11-07   4627397.26\n",
       "3       Noah    calf   269  0.736986   True 2023-01-10   9263013.70\n",
       "4       Emma  heifer    67  0.183562  False 2023-07-31  14724657.53\n",
       "5       Liam    calf   167  0.457534   True 2023-04-22   9542465.75\n",
       "6     Oliver    calf    67  0.183562   True 2023-07-31   9816438.36\n",
       "7      Lucas    bool  3258  8.926027   True 2014-11-04   1073972.60\n",
       "8   Isabella     cow  2811  7.701370  False 2016-01-25   3447945.21\n",
       "9      Henry    calf   177  0.484932   True 2023-04-12   9515068.49\n",
       "10    Amelia     cow  2119  5.805479  False 2017-12-17   6291780.82\n",
       "11    Evelyn     cow  3132  8.580822  False 2015-03-10   2128767.12"
      ]
     },
     "execution_count": 95,
     "metadata": {},
     "output_type": "execute_result"
    }
   ],
   "source": [
    "horver = example.loc[:11,'A':'G']\n",
    "example.loc[:11, 'A':'G']"
   ]
  },
  {
   "cell_type": "code",
   "execution_count": 96,
   "id": "b8287d3e-9644-4b52-8b78-71b38ec99463",
   "metadata": {},
   "outputs": [
    {
     "ename": "ValueError",
     "evalue": "The truth value of a DataFrame is ambiguous. Use a.empty, a.bool(), a.item(), a.any() or a.all().",
     "output_type": "error",
     "traceback": [
      "\u001b[0;31m---------------------------------------------------------------------------\u001b[0m",
      "\u001b[0;31mValueError\u001b[0m                                Traceback (most recent call last)",
      "\u001b[0;32m/tmp/ipykernel_90176/3166532565.py\u001b[0m in \u001b[0;36m?\u001b[0;34m()\u001b[0m\n\u001b[0;32m----> 1\u001b[0;31m \u001b[0mexfun\u001b[0m\u001b[0;34m.\u001b[0m\u001b[0mIF\u001b[0m\u001b[0;34m(\u001b[0m\u001b[0mhor\u001b[0m\u001b[0;34m,\u001b[0m \u001b[0mhor\u001b[0m\u001b[0;34m,\u001b[0m \u001b[0mhor\u001b[0m\u001b[0;34m)\u001b[0m\u001b[0;34m\u001b[0m\u001b[0;34m\u001b[0m\u001b[0m\n\u001b[0m",
      "\u001b[0;32m/var/www/html/data-analysts/venv/lib/python3.11/site-packages/excell_functions/logical/__init__.py\u001b[0m in \u001b[0;36m?\u001b[0;34m(condition, true_value, false_value)\u001b[0m\n\u001b[1;32m     64\u001b[0m     \u001b[0mThis\u001b[0m \u001b[0mfunction\u001b[0m \u001b[0mtakes\u001b[0m \u001b[0mthree\u001b[0m \u001b[0marguments\u001b[0m\u001b[0;34m:\u001b[0m \u001b[0mcondition\u001b[0m\u001b[0;34m,\u001b[0m \u001b[0mtrue_value\u001b[0m\u001b[0;34m,\u001b[0m \u001b[0;32mand\u001b[0m \u001b[0mfalse_value\u001b[0m\u001b[0;34m.\u001b[0m\u001b[0;34m\u001b[0m\u001b[0;34m\u001b[0m\u001b[0m\n\u001b[1;32m     65\u001b[0m     \u001b[0mIf\u001b[0m \u001b[0mthe\u001b[0m \u001b[0mcondition\u001b[0m \u001b[0;32mis\u001b[0m \u001b[0mtrue\u001b[0m\u001b[0;34m,\u001b[0m \u001b[0mthe\u001b[0m \u001b[0mfunction\u001b[0m \u001b[0mreturns\u001b[0m \u001b[0mthe\u001b[0m \u001b[0mtrue_value\u001b[0m\u001b[0;34m.\u001b[0m\u001b[0;34m\u001b[0m\u001b[0;34m\u001b[0m\u001b[0m\n\u001b[1;32m     66\u001b[0m     \u001b[0mOtherwise\u001b[0m\u001b[0;34m,\u001b[0m \u001b[0mit\u001b[0m \u001b[0mreturns\u001b[0m \u001b[0mthe\u001b[0m \u001b[0mfalse_value\u001b[0m\u001b[0;34m.\u001b[0m\u001b[0;34m\u001b[0m\u001b[0;34m\u001b[0m\u001b[0m\n\u001b[1;32m     67\u001b[0m     '''\n\u001b[0;32m---> 68\u001b[0;31m     \u001b[0;32mif\u001b[0m \u001b[0mcondition\u001b[0m\u001b[0;34m:\u001b[0m\u001b[0;34m\u001b[0m\u001b[0;34m\u001b[0m\u001b[0m\n\u001b[0m\u001b[1;32m     69\u001b[0m         \u001b[0;32mreturn\u001b[0m \u001b[0mtrue_value\u001b[0m\u001b[0;34m\u001b[0m\u001b[0;34m\u001b[0m\u001b[0m\n\u001b[1;32m     70\u001b[0m     \u001b[0;32melse\u001b[0m\u001b[0;34m:\u001b[0m\u001b[0;34m\u001b[0m\u001b[0;34m\u001b[0m\u001b[0m\n\u001b[1;32m     71\u001b[0m         \u001b[0;32mreturn\u001b[0m \u001b[0mfalse_value\u001b[0m\u001b[0;34m\u001b[0m\u001b[0;34m\u001b[0m\u001b[0m\n",
      "\u001b[0;32m/var/www/html/data-analysts/venv/lib/python3.11/site-packages/pandas/core/generic.py\u001b[0m in \u001b[0;36m?\u001b[0;34m(self)\u001b[0m\n\u001b[1;32m   1517\u001b[0m     \u001b[0;34m@\u001b[0m\u001b[0mfinal\u001b[0m\u001b[0;34m\u001b[0m\u001b[0;34m\u001b[0m\u001b[0m\n\u001b[1;32m   1518\u001b[0m     \u001b[0;32mdef\u001b[0m \u001b[0m__nonzero__\u001b[0m\u001b[0;34m(\u001b[0m\u001b[0mself\u001b[0m\u001b[0;34m)\u001b[0m \u001b[0;34m->\u001b[0m \u001b[0mNoReturn\u001b[0m\u001b[0;34m:\u001b[0m\u001b[0;34m\u001b[0m\u001b[0;34m\u001b[0m\u001b[0m\n\u001b[0;32m-> 1519\u001b[0;31m         raise ValueError(\n\u001b[0m\u001b[1;32m   1520\u001b[0m             \u001b[0;34mf\"The truth value of a {type(self).__name__} is ambiguous. \"\u001b[0m\u001b[0;34m\u001b[0m\u001b[0;34m\u001b[0m\u001b[0m\n\u001b[1;32m   1521\u001b[0m             \u001b[0;34m\"Use a.empty, a.bool(), a.item(), a.any() or a.all().\"\u001b[0m\u001b[0;34m\u001b[0m\u001b[0;34m\u001b[0m\u001b[0m\n\u001b[1;32m   1522\u001b[0m         )\n",
      "\u001b[0;31mValueError\u001b[0m: The truth value of a DataFrame is ambiguous. Use a.empty, a.bool(), a.item(), a.any() or a.all()."
     ]
    }
   ],
   "source": [
    "exfun.IF(hor, hor, hor)"
   ]
  },
  {
   "cell_type": "code",
   "execution_count": 97,
   "id": "5efd9f48-d479-4bfa-9104-daad3a990a48",
   "metadata": {},
   "outputs": [
    {
     "ename": "ValueError",
     "evalue": "The truth value of a Series is ambiguous. Use a.empty, a.bool(), a.item(), a.any() or a.all().",
     "output_type": "error",
     "traceback": [
      "\u001b[0;31m---------------------------------------------------------------------------\u001b[0m",
      "\u001b[0;31mValueError\u001b[0m                                Traceback (most recent call last)",
      "\u001b[0;32m/tmp/ipykernel_90176/2662822966.py\u001b[0m in \u001b[0;36m?\u001b[0;34m()\u001b[0m\n\u001b[0;32m----> 1\u001b[0;31m \u001b[0mexfun\u001b[0m\u001b[0;34m.\u001b[0m\u001b[0mIF\u001b[0m\u001b[0;34m(\u001b[0m\u001b[0mver\u001b[0m\u001b[0;34m,\u001b[0m \u001b[0mver\u001b[0m\u001b[0;34m,\u001b[0m \u001b[0mver\u001b[0m\u001b[0;34m)\u001b[0m\u001b[0;34m\u001b[0m\u001b[0;34m\u001b[0m\u001b[0m\n\u001b[0m",
      "\u001b[0;32m/var/www/html/data-analysts/venv/lib/python3.11/site-packages/excell_functions/logical/__init__.py\u001b[0m in \u001b[0;36m?\u001b[0;34m(condition, true_value, false_value)\u001b[0m\n\u001b[1;32m     64\u001b[0m     \u001b[0mThis\u001b[0m \u001b[0mfunction\u001b[0m \u001b[0mtakes\u001b[0m \u001b[0mthree\u001b[0m \u001b[0marguments\u001b[0m\u001b[0;34m:\u001b[0m \u001b[0mcondition\u001b[0m\u001b[0;34m,\u001b[0m \u001b[0mtrue_value\u001b[0m\u001b[0;34m,\u001b[0m \u001b[0;32mand\u001b[0m \u001b[0mfalse_value\u001b[0m\u001b[0;34m.\u001b[0m\u001b[0;34m\u001b[0m\u001b[0;34m\u001b[0m\u001b[0m\n\u001b[1;32m     65\u001b[0m     \u001b[0mIf\u001b[0m \u001b[0mthe\u001b[0m \u001b[0mcondition\u001b[0m \u001b[0;32mis\u001b[0m \u001b[0mtrue\u001b[0m\u001b[0;34m,\u001b[0m \u001b[0mthe\u001b[0m \u001b[0mfunction\u001b[0m \u001b[0mreturns\u001b[0m \u001b[0mthe\u001b[0m \u001b[0mtrue_value\u001b[0m\u001b[0;34m.\u001b[0m\u001b[0;34m\u001b[0m\u001b[0;34m\u001b[0m\u001b[0m\n\u001b[1;32m     66\u001b[0m     \u001b[0mOtherwise\u001b[0m\u001b[0;34m,\u001b[0m \u001b[0mit\u001b[0m \u001b[0mreturns\u001b[0m \u001b[0mthe\u001b[0m \u001b[0mfalse_value\u001b[0m\u001b[0;34m.\u001b[0m\u001b[0;34m\u001b[0m\u001b[0;34m\u001b[0m\u001b[0m\n\u001b[1;32m     67\u001b[0m     '''\n\u001b[0;32m---> 68\u001b[0;31m     \u001b[0;32mif\u001b[0m \u001b[0mcondition\u001b[0m\u001b[0;34m:\u001b[0m\u001b[0;34m\u001b[0m\u001b[0;34m\u001b[0m\u001b[0m\n\u001b[0m\u001b[1;32m     69\u001b[0m         \u001b[0;32mreturn\u001b[0m \u001b[0mtrue_value\u001b[0m\u001b[0;34m\u001b[0m\u001b[0;34m\u001b[0m\u001b[0m\n\u001b[1;32m     70\u001b[0m     \u001b[0;32melse\u001b[0m\u001b[0;34m:\u001b[0m\u001b[0;34m\u001b[0m\u001b[0;34m\u001b[0m\u001b[0m\n\u001b[1;32m     71\u001b[0m         \u001b[0;32mreturn\u001b[0m \u001b[0mfalse_value\u001b[0m\u001b[0;34m\u001b[0m\u001b[0;34m\u001b[0m\u001b[0m\n",
      "\u001b[0;32m/var/www/html/data-analysts/venv/lib/python3.11/site-packages/pandas/core/generic.py\u001b[0m in \u001b[0;36m?\u001b[0;34m(self)\u001b[0m\n\u001b[1;32m   1517\u001b[0m     \u001b[0;34m@\u001b[0m\u001b[0mfinal\u001b[0m\u001b[0;34m\u001b[0m\u001b[0;34m\u001b[0m\u001b[0m\n\u001b[1;32m   1518\u001b[0m     \u001b[0;32mdef\u001b[0m \u001b[0m__nonzero__\u001b[0m\u001b[0;34m(\u001b[0m\u001b[0mself\u001b[0m\u001b[0;34m)\u001b[0m \u001b[0;34m->\u001b[0m \u001b[0mNoReturn\u001b[0m\u001b[0;34m:\u001b[0m\u001b[0;34m\u001b[0m\u001b[0;34m\u001b[0m\u001b[0m\n\u001b[0;32m-> 1519\u001b[0;31m         raise ValueError(\n\u001b[0m\u001b[1;32m   1520\u001b[0m             \u001b[0;34mf\"The truth value of a {type(self).__name__} is ambiguous. \"\u001b[0m\u001b[0;34m\u001b[0m\u001b[0;34m\u001b[0m\u001b[0m\n\u001b[1;32m   1521\u001b[0m             \u001b[0;34m\"Use a.empty, a.bool(), a.item(), a.any() or a.all().\"\u001b[0m\u001b[0;34m\u001b[0m\u001b[0;34m\u001b[0m\u001b[0m\n\u001b[1;32m   1522\u001b[0m         )\n",
      "\u001b[0;31mValueError\u001b[0m: The truth value of a Series is ambiguous. Use a.empty, a.bool(), a.item(), a.any() or a.all()."
     ]
    }
   ],
   "source": [
    "exfun.IF(ver, ver, ver)"
   ]
  },
  {
   "cell_type": "code",
   "execution_count": null,
   "id": "9efc7657-e2e8-41f9-8dab-dc675f596131",
   "metadata": {
    "scrolled": true
   },
   "outputs": [],
   "source": [
    "exfun.IF(horver, horver, horver)"
   ]
  },
  {
   "cell_type": "code",
   "execution_count": 98,
   "id": "e7ff2b83-f989-4a36-9641-cb7d29264de3",
   "metadata": {},
   "outputs": [
    {
     "data": {
      "text/plain": [
       "[      A     B     C         D     E          F           G\n",
       " 1  Bert  bool  1873  5.131507  True 2018-08-20  4868493.15]"
      ]
     },
     "execution_count": 98,
     "metadata": {},
     "output_type": "execute_result"
    }
   ],
   "source": [
    "exfun.IF([hor], [hor], [hor])"
   ]
  },
  {
   "cell_type": "code",
   "execution_count": 99,
   "id": "183c7244-c8d7-4e2a-b75d-efa8cc5facfd",
   "metadata": {},
   "outputs": [
    {
     "data": {
      "text/plain": [
       "[1         Bert\n",
       " 2       Martha\n",
       " 3         Noah\n",
       " 4         Emma\n",
       " 5         Liam\n",
       " 6       Oliver\n",
       " 7        Lucas\n",
       " 8     Isabella\n",
       " 9        Henry\n",
       " 10      Amelia\n",
       " 11      Evelyn\n",
       " Name: A, dtype: object]"
      ]
     },
     "execution_count": 99,
     "metadata": {},
     "output_type": "execute_result"
    }
   ],
   "source": [
    "exfun.IF([ver], [ver], [ver])"
   ]
  },
  {
   "cell_type": "code",
   "execution_count": 100,
   "id": "bb6228fe-6034-4677-967f-2796321a1ec5",
   "metadata": {},
   "outputs": [
    {
     "data": {
      "text/plain": [
       "[           A       B     C         D      E          F            G\n",
       " 1       Bert    bool  1873  5.131507   True 2018-08-20   4868493.15\n",
       " 2     Martha     cow  2524  6.915068  False 2016-11-07   4627397.26\n",
       " 3       Noah    calf   269  0.736986   True 2023-01-10   9263013.70\n",
       " 4       Emma  heifer    67  0.183562  False 2023-07-31  14724657.53\n",
       " 5       Liam    calf   167  0.457534   True 2023-04-22   9542465.75\n",
       " 6     Oliver    calf    67  0.183562   True 2023-07-31   9816438.36\n",
       " 7      Lucas    bool  3258  8.926027   True 2014-11-04   1073972.60\n",
       " 8   Isabella     cow  2811  7.701370  False 2016-01-25   3447945.21\n",
       " 9      Henry    calf   177  0.484932   True 2023-04-12   9515068.49\n",
       " 10    Amelia     cow  2119  5.805479  False 2017-12-17   6291780.82\n",
       " 11    Evelyn     cow  3132  8.580822  False 2015-03-10   2128767.12]"
      ]
     },
     "execution_count": 100,
     "metadata": {},
     "output_type": "execute_result"
    }
   ],
   "source": [
    "exfun.IF([horver], [horver], [horver])"
   ]
  },
  {
   "cell_type": "code",
   "execution_count": 101,
   "id": "406beff9-34f5-4e49-9f03-708f620504f7",
   "metadata": {},
   "outputs": [
    {
     "data": {
      "text/plain": [
       "list"
      ]
     },
     "execution_count": 101,
     "metadata": {},
     "output_type": "execute_result"
    }
   ],
   "source": [
    "type(exfun.IF([horver], [horver], [horver]))"
   ]
  },
  {
   "cell_type": "markdown",
   "id": "882e9ea6-ba95-47e3-9eaf-c98e7ebd2f01",
   "metadata": {},
   "source": [
    "### Test data types."
   ]
  },
  {
   "cell_type": "markdown",
   "id": "86863315-5160-47a6-84d6-efa863323336",
   "metadata": {},
   "source": [
    "#### Test \"non boolean\" specific values in condition"
   ]
  },
  {
   "cell_type": "markdown",
   "id": "c477d9ee-38ce-4f67-9787-3313710fd526",
   "metadata": {},
   "source": [
    "Test empty"
   ]
  },
  {
   "cell_type": "code",
   "execution_count": 102,
   "id": "3dddd083-f539-4b4c-90c2-2c9f041f6f69",
   "metadata": {},
   "outputs": [
    {
     "ename": "SyntaxError",
     "evalue": "invalid syntax (3579035686.py, line 1)",
     "output_type": "error",
     "traceback": [
      "\u001b[0;36m  Cell \u001b[0;32mIn[102], line 1\u001b[0;36m\u001b[0m\n\u001b[0;31m    exfun.IF(, 'It is true!', 'It is false!')\u001b[0m\n\u001b[0m             ^\u001b[0m\n\u001b[0;31mSyntaxError\u001b[0m\u001b[0;31m:\u001b[0m invalid syntax\n"
     ]
    }
   ],
   "source": [
    "exfun.IF(, 'It is true!', 'It is false!')"
   ]
  },
  {
   "cell_type": "markdown",
   "id": "fffedb58-1650-4aae-97fb-e01d770495c5",
   "metadata": {},
   "source": [
    "Test empty string"
   ]
  },
  {
   "cell_type": "code",
   "execution_count": 103,
   "id": "f8de3495-7460-480e-92c8-88ba1bed7665",
   "metadata": {},
   "outputs": [
    {
     "data": {
      "text/plain": [
       "'It is false!'"
      ]
     },
     "execution_count": 103,
     "metadata": {},
     "output_type": "execute_result"
    }
   ],
   "source": [
    "exfun.IF(\"\", 'It is true!', 'It is false!')"
   ]
  },
  {
   "cell_type": "markdown",
   "id": "b864da36-a0d8-4c5e-89fc-cd39a9a17caa",
   "metadata": {},
   "source": [
    "Test 0"
   ]
  },
  {
   "cell_type": "code",
   "execution_count": 104,
   "id": "169b81cb-0477-418e-aede-26744eec886d",
   "metadata": {},
   "outputs": [
    {
     "data": {
      "text/plain": [
       "'It is false!'"
      ]
     },
     "execution_count": 104,
     "metadata": {},
     "output_type": "execute_result"
    }
   ],
   "source": [
    "exfun.IF(0, 'It is true!', 'It is false!')"
   ]
  },
  {
   "cell_type": "markdown",
   "id": "311d776e-cd2e-4317-aa48-752d56769065",
   "metadata": {},
   "source": [
    "Test 1"
   ]
  },
  {
   "cell_type": "code",
   "execution_count": 105,
   "id": "4a648351-9ab1-4029-b426-5744790bf527",
   "metadata": {},
   "outputs": [
    {
     "data": {
      "text/plain": [
       "'It is true!'"
      ]
     },
     "execution_count": 105,
     "metadata": {},
     "output_type": "execute_result"
    }
   ],
   "source": [
    "exfun.IF(1, 'It is true!', 'It is false!')"
   ]
  },
  {
   "cell_type": "markdown",
   "id": "53e31427-04b3-4254-b1ed-6c1db9cf21b2",
   "metadata": {},
   "source": [
    "#### Test \"different types\" in condition"
   ]
  },
  {
   "cell_type": "markdown",
   "id": "ae1fdea2-8dce-408e-8c3b-28ef547ce7a0",
   "metadata": {},
   "source": [
    "Test string"
   ]
  },
  {
   "cell_type": "code",
   "execution_count": 106,
   "id": "e0c00885-db25-4a7e-a8d9-ec4bc63eda25",
   "metadata": {},
   "outputs": [
    {
     "data": {
      "text/plain": [
       "'It is true!'"
      ]
     },
     "execution_count": 106,
     "metadata": {},
     "output_type": "execute_result"
    }
   ],
   "source": [
    "exfun.IF(example['A'][1], 'It is true!', 'It is false!')"
   ]
  },
  {
   "cell_type": "code",
   "execution_count": 107,
   "id": "224923db-61ae-423c-9845-c811f614b704",
   "metadata": {},
   "outputs": [
    {
     "data": {
      "text/plain": [
       "'It is true!'"
      ]
     },
     "execution_count": 107,
     "metadata": {},
     "output_type": "execute_result"
    }
   ],
   "source": [
    "exfun.IF(example['B'][1], 'It is true!', 'It is false!')"
   ]
  },
  {
   "cell_type": "markdown",
   "id": "781c2484-87a3-4618-bd4e-d3dd39a719b8",
   "metadata": {},
   "source": [
    "Test int"
   ]
  },
  {
   "cell_type": "code",
   "execution_count": 108,
   "id": "acd7d2bd-491d-4ca0-8cb8-90ff5b312e67",
   "metadata": {},
   "outputs": [
    {
     "data": {
      "text/plain": [
       "'It is true!'"
      ]
     },
     "execution_count": 108,
     "metadata": {},
     "output_type": "execute_result"
    }
   ],
   "source": [
    "exfun.IF(example['C'][1], 'It is true!', 'It is false!')"
   ]
  },
  {
   "cell_type": "markdown",
   "id": "d4b4cc82-7e03-4902-a606-a1d51afaed3f",
   "metadata": {},
   "source": [
    "Test float"
   ]
  },
  {
   "cell_type": "code",
   "execution_count": 109,
   "id": "96e39ef5-817a-4554-818b-8509e2f5c65b",
   "metadata": {},
   "outputs": [
    {
     "data": {
      "text/plain": [
       "'It is true!'"
      ]
     },
     "execution_count": 109,
     "metadata": {},
     "output_type": "execute_result"
    }
   ],
   "source": [
    "exfun.IF(example['D'][1], 'It is true!', 'It is false!')"
   ]
  },
  {
   "cell_type": "markdown",
   "id": "1273d9d3-9819-4ebd-aa20-734cbf337415",
   "metadata": {},
   "source": [
    "Test boolean"
   ]
  },
  {
   "cell_type": "code",
   "execution_count": 110,
   "id": "064a54c8-de21-49d8-bc86-030930fbf886",
   "metadata": {},
   "outputs": [
    {
     "data": {
      "text/plain": [
       "'It is true!'"
      ]
     },
     "execution_count": 110,
     "metadata": {},
     "output_type": "execute_result"
    }
   ],
   "source": [
    "exfun.IF(example['E'][1], 'It is true!', 'It is false!')"
   ]
  },
  {
   "cell_type": "markdown",
   "id": "e0da9d41-8fa6-401f-8be2-6e81568e8526",
   "metadata": {},
   "source": [
    "Test datetime"
   ]
  },
  {
   "cell_type": "code",
   "execution_count": 111,
   "id": "2dc1d253-b610-44d0-87ca-7a0d54f77853",
   "metadata": {},
   "outputs": [
    {
     "data": {
      "text/plain": [
       "'It is true!'"
      ]
     },
     "execution_count": 111,
     "metadata": {},
     "output_type": "execute_result"
    }
   ],
   "source": [
    "exfun.IF(example['F'][1], 'It is true!', 'It is false!')"
   ]
  },
  {
   "cell_type": "markdown",
   "id": "f889c8bb-0484-4490-9560-4bcb50734aa4",
   "metadata": {},
   "source": [
    "Test float"
   ]
  },
  {
   "cell_type": "code",
   "execution_count": 112,
   "id": "a9e949ef-da52-4aab-8f97-3386a2945497",
   "metadata": {},
   "outputs": [
    {
     "data": {
      "text/plain": [
       "'It is true!'"
      ]
     },
     "execution_count": 112,
     "metadata": {},
     "output_type": "execute_result"
    }
   ],
   "source": [
    "exfun.IF(example['G'][1], 'It is true!', 'It is false!')"
   ]
  },
  {
   "cell_type": "markdown",
   "id": "6f2e46bb-b2cd-4d39-a668-bca8e5e8a748",
   "metadata": {},
   "source": [
    "Test None"
   ]
  },
  {
   "cell_type": "code",
   "execution_count": 113,
   "id": "66b1935f-3bbf-410a-967d-af0ad2eaa435",
   "metadata": {},
   "outputs": [
    {
     "data": {
      "text/plain": [
       "'It is false!'"
      ]
     },
     "execution_count": 113,
     "metadata": {},
     "output_type": "execute_result"
    }
   ],
   "source": [
    "exfun.IF(example['H'][1], 'It is true!', 'It is false!')"
   ]
  }
 ],
 "metadata": {
  "kernelspec": {
   "display_name": "Python 3 (ipykernel)",
   "language": "python",
   "name": "python3"
  },
  "language_info": {
   "codemirror_mode": {
    "name": "ipython",
    "version": 3
   },
   "file_extension": ".py",
   "mimetype": "text/x-python",
   "name": "python",
   "nbconvert_exporter": "python",
   "pygments_lexer": "ipython3",
   "version": "3.11.2"
  }
 },
 "nbformat": 4,
 "nbformat_minor": 5
}
